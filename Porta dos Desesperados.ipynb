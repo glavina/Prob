{
 "cells": [
  {
   "cell_type": "code",
   "execution_count": 34,
   "metadata": {},
   "outputs": [
    {
     "data": {
      "image/png": "[encoded data removed]",
      "text/plain": [
       "<Figure size 432x432 with 1 Axes>"
      ]
     },
     "metadata": {
      "needs_background": "light"
     },
     "output_type": "display_data"
    }
   ],
   "source": [
    "# ME323C - 1o semestre 2019 - RA 044628 Leonardo Glavina da Cruz\n",
    "#\n",
    "# Este script visa simular a \"Porta dos Desesperados\", ou o problema de Monty Hall, de modo prático.\n",
    "# Assim, demonstramos os resultados provados teoricamente pelo teorema de Bayes (introdução)\n",
    "\n",
    "import random\n",
    "import matplotlib.pyplot as plt\n",
    "\n",
    "\n",
    "numero_iteracoes = 10000 #setado para 10mil simulacoes de cada estrategia\n",
    "\n",
    "# Situacao 1: Manter a primeira escolha de porta\n",
    "\n",
    "contagem_vitorias_s1 = 0 #contador de acertos\n",
    "\n",
    "for i in range(numero_iteracoes):\n",
    "\n",
    "    porta_vencedora = randint(1,3) #determina aleatoriamente qual a porta vencedora\n",
    "\n",
    "    primeira_escolha = randint(1,3) #jogador faz sua primeira escolha de porta\n",
    "\n",
    "    portas_s1 = [1,2,3] \n",
    "    portas_s1.remove(porta_vencedora)\n",
    "    if primeira_escolha != porta_vencedora : portas_s1.remove(primeira_escolha)\n",
    "    porta_apresentador = random.choice(portas_s1) #apresentador abre uma porta errada\n",
    "\n",
    "    #jogador mantem sua primeira escolha    \n",
    "    \n",
    "    if primeira_escolha == porta_vencedora : \n",
    "        contagem_vitorias_s1 = contagem_vitorias_s1 + 1 #contagem de acertos na situacao\n",
    "\n",
    "        \n",
    "# Situacao 2: Trocar sua primeira escolha de porta \n",
    "\n",
    "contagem_vitorias_s2 = 0\n",
    "\n",
    "for i in range(numero_iteracoes):\n",
    "\n",
    "    porta_vencedora = randint(1,3) #determina aleatoriamente qual a porta vencedora\n",
    "\n",
    "    primeira_escolha = randint(1,3) #jogador faz sua primeira escolha de porta\n",
    "\n",
    "    portas_s2 = [1,2,3]\n",
    "    portas_s2.remove(porta_vencedora)\n",
    "    if primeira_escolha != porta_vencedora : portas_s2.remove(primeira_escolha)\n",
    "    porta_apresentador = random.choice(portas_s2) #apresentador abre uma porta errada\n",
    "\n",
    "    portas_s2 = [1,2,3]\n",
    "    portas_s2.remove(porta_apresentador)\n",
    "    portas_s2.remove(primeira_escolha)\n",
    "    segunda_escolha = portas_s2[0] #jogador troca sua primeira escolha\n",
    "\n",
    "    if segunda_escolha == porta_vencedora :\n",
    "        contagem_vitorias_s2 = contagem_vitorias_s2 + 1 #contagem de acertos na segunda situacao\n",
    "\n",
    "\n",
    "#definindo variaveis para mostrar resultado graficamente\n",
    "porc_vitorias_s1 = (1.0 * contagem_vitorias_s1 / numero_iteracoes) * 100\n",
    "porc_vitorias_s2 = (1.0 * contagem_vitorias_s2 / numero_iteracoes) * 100\n",
    "\n",
    "#vetores com os dados\n",
    "dados_vitorias = [porc_vitorias_s1, porc_vitorias_s2]\n",
    "situacoes = [\"Manter porta\", \"Trocar porta\"]\n",
    "\n",
    "#configuracoes do grafico\n",
    "plt.rcParams[\"figure.figsize\"] = (6, 6)\n",
    "plt.rcParams['axes.titlesize'] = 16\n",
    "fig, ax = plt.subplots()\n",
    "\n",
    "ax.bar(situacoes, dados_vitorias, color=\"blue\") #funcao para plotar grafico\n",
    "\n",
    "#definindo 'rotulos' dos eixos\n",
    "ax.set(title=\"Média de acertos para cada estratégia\")\n",
    "ax.set(ylabel=\"Porcentual de Acertos (%)\");\n"
   ]
  }
 ],
 "metadata": {
  "kernelspec": {
   "display_name": "Python 3",
   "language": "python",
   "name": "python3"
  },
  "language_info": {
   "codemirror_mode": {
    "name": "ipython",
    "version": 3
   },
   "file_extension": ".py",
   "mimetype": "text/x-python",
   "name": "python",
   "nbconvert_exporter": "python",
   "pygments_lexer": "ipython3",
   "version": "3.7.1"
  }
 },
 "nbformat": 4,
 "nbformat_minor": 2
}
