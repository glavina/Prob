{
 "cells": [
  {
   "cell_type": "code",
   "execution_count": 20,
   "metadata": {},
   "outputs": [
    {
     "name": "stdout",
     "output_type": "stream",
     "text": [
      "Media de 10 amostras: 0.3055\n",
      "Media de 100 amostras: 0.29896499999999987\n",
      "Desvio padrão de 10 amostras: 0.010162020796409878\n",
      "Desvio padrão de 100 amostras: 0.009886650524108693\n"
     ]
    },
    {
     "data": {
      "image/png": "[encoded data removed]",
      "text/plain": [
       "<Figure size 864x576 with 2 Axes>"
      ]
     },
     "metadata": {
      "needs_background": "light"
     },
     "output_type": "display_data"
    }
   ],
   "source": [
    "# ME323C - 1o semestre 2019 - RA 044628 Leonardo Glavina da Cruz\n",
    "#\n",
    "# Este script visa simular uma eleição, como vimos teoricamente em amostragem e o Teorema do Limite Central\n",
    "\n",
    "import numpy as np\n",
    "import matplotlib.pyplot as plt\n",
    "import math\n",
    "import statistics\n",
    "\n",
    "def opiniao_pesssoa_aleatoria():\n",
    "    # Opiniao de uma pessoal aleatoria, binomial, com o valor da probabilidade determinado \n",
    "    \n",
    "    probabilidade_vitoria_A = 0.30\n",
    "    return np.random.binomial(\n",
    "        n = 1,\n",
    "        p = probabilidade_vitoria_A)\n",
    "\n",
    "opiniao_pesssoa_aleatoria()\n",
    "\n",
    "\n",
    "def amostra_aleatoria(n):\n",
    "    # Cria um vetor de tamanho n, binomial 1 se o entrevistado votou no candidato A e 0 se votou no candidato B \n",
    "    \n",
    "    opinioes_amostra = []\n",
    "    for i in range(n):\n",
    "        opinioes_amostra.append(opiniao_pesssoa_aleatoria())\n",
    "    \n",
    "    return opinioes_amostra\n",
    "\n",
    "\n",
    "def n_amostras_aleatorias(numero_amostras, tamanho_amostras):\n",
    "    # Registra multiplas amostras da distribuicao aleatoria \n",
    "    \n",
    "    n_amostras = [tamanho_amostras] * numero_amostras\n",
    "    total_amostras = list(map(amostra_aleatoria, n_amostras))\n",
    "    return total_amostras\n",
    "\n",
    "def p_chapeu(numero_amostras, tamanho_amostras):\n",
    "    # Cria a proporcao amostral de votos no candidato A \n",
    "    \n",
    "    amostras = n_amostras_aleatorias(\n",
    "        numero_amostras = numero_amostras,\n",
    "        tamanho_amostras = tamanho_amostras)\n",
    "\n",
    "    return list(map(np.mean, amostras))\n",
    "\n",
    "    \n",
    "fig, axes = plt.subplots(1,2, figsize = (12, 8))\n",
    "fig.subplots_adjust(hspace=0.4, wspace=0.3)\n",
    "axes = axes.ravel()\n",
    "\n",
    "media = 0\n",
    "tamanho_amostras = [10, 100]\n",
    "for i in range(len(tamanho_amostras)):\n",
    "    media_amostras = p_chapeu(\n",
    "        numero_amostras = 2000,\n",
    "        tamanho_amostras = tamanho_amostras[i])   \n",
    "    axes[i].hist(media_amostras, bins=30)\n",
    "    axes[i].set_title(\"Tamanho da Amostra: {0}\".format(tamanho_amostras[i]))\n",
    "\n",
    "media10 = sum(p_chapeu(10, 2000))/len(p_chapeu(10, 2000))\n",
    "media100 = sum(p_chapeu(100, 2000))/len(p_chapeu(100, 2000))\n",
    "\n",
    "print(\"Media de 10 amostras:\", media10)\n",
    "print(\"Media de 100 amostras:\", media100)\n",
    "\n",
    "desvio_padrao10 = statistics.stdev(p_chapeu(10, 2000))\n",
    "desvio_padrao100 = statistics.stdev(p_chapeu(100, 2000))\n",
    "    \n",
    "print(\"Desvio padrão de 10 amostras:\", desvio_padrao10)\n",
    "print(\"Desvio padrão de 100 amostras:\", desvio_padrao100)\n",
    "\n",
    "    "
   ]
  },
  {
   "cell_type": "code",
   "execution_count": null,
   "metadata": {},
   "outputs": [],
   "source": []
  },
  {
   "cell_type": "code",
   "execution_count": null,
   "metadata": {},
   "outputs": [],
   "source": []
  },
  {
   "cell_type": "code",
   "execution_count": null,
   "metadata": {},
   "outputs": [],
   "source": []
  },
  {
   "cell_type": "code",
   "execution_count": null,
   "metadata": {},
   "outputs": [],
   "source": []
  }
 ],
 "metadata": {
  "kernelspec": {
   "display_name": "Python 3",
   "language": "python",
   "name": "python3"
  },
  "language_info": {
   "codemirror_mode": {
    "name": "ipython",
    "version": 3
   },
   "file_extension": ".py",
   "mimetype": "text/x-python",
   "name": "python",
   "nbconvert_exporter": "python",
   "pygments_lexer": "ipython3",
   "version": "3.7.1"
  }
 },
 "nbformat": 4,
 "nbformat_minor": 2
}
